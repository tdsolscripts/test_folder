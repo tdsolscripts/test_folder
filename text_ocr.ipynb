{
 "cells": [
  {
   "cell_type": "code",
   "execution_count": null,
   "outputs": [],
   "source": [
    "#version_2\n",
    "import matplotlib.pyplot as plt\n",
    "import keras_ocr\n",
    "pipeline = keras_ocr.pipeline.Pipeline()\n",
    "#read image from the an image path (a jpg/png file or an image url)\n",
    "img = keras_ocr.tools.read('c3ab80fe-ce4e-43d6-8aa8-1b3710865800.jpeg')\n",
    "# Prediction_groups is a list of (word, box) tuples\n",
    "prediction_groups = pipeline.recognize([img])\n",
    "#print image with annotation and boxes\n",
    "keras_ocr.tools.drawAnnotations(image=img, predictions=prediction_groups[0])"
   ],
   "metadata": {
    "collapsed": false,
    "ExecuteTime": {
     "start_time": "2023-06-24T18:24:24.851155Z",
     "end_time": "2023-06-24T18:24:49.444583Z"
    }
   }
  },
  {
   "cell_type": "code",
   "execution_count": null,
   "outputs": [],
   "source": [
    "img = keras_ocr.tools.read('c3ab80fe-ce4e-43d6-8aa8-1b3710865800.jpeg')\n",
    "# Prediction_groups is a list of (word, box) tuples\n",
    "prediction_groups = pipeline.recognize([img])\n",
    "#print image with annotation and boxes\n",
    "annotated_img = keras_ocr.tools.drawAnnotations(image=img, predictions=prediction_groups[0])"
   ],
   "metadata": {
    "collapsed": false,
    "ExecuteTime": {
     "start_time": "2023-06-24T18:25:04.002974Z",
     "end_time": "2023-06-24T18:25:19.387893Z"
    },
    "pycharm": {
     "is_executing": true
    }
   }
  },
  {
   "cell_type": "code",
   "execution_count": null,
   "outputs": [],
   "source": [
    "plt.imsave('annotated_image.jpg', annotated_img)"
   ],
   "metadata": {
    "collapsed": false,
    "pycharm": {
     "is_executing": true
    }
   }
  },
  {
   "cell_type": "code",
   "execution_count": null,
   "outputs": [],
   "source": [
    "prediction_groups"
   ],
   "metadata": {
    "collapsed": false,
    "ExecuteTime": {
     "start_time": "2023-06-24T18:25:38.945558Z",
     "end_time": "2023-06-24T18:25:38.951025Z"
    },
    "pycharm": {
     "is_executing": true
    }
   }
  }
 ],
 "metadata": {
  "kernelspec": {
   "display_name": "Python 3",
   "language": "python",
   "name": "python3"
  },
  "language_info": {
   "codemirror_mode": {
    "name": "ipython",
    "version": 2
   },
   "file_extension": ".py",
   "mimetype": "text/x-python",
   "name": "python",
   "nbconvert_exporter": "python",
   "pygments_lexer": "ipython2",
   "version": "2.7.6"
  }
 },
 "nbformat": 4,
 "nbformat_minor": 0
}
